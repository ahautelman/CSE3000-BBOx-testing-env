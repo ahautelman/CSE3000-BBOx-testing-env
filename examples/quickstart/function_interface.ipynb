{
 "cells": [
  {
   "cell_type": "markdown",
   "metadata": {},
   "source": [
    "### Quickstart Function Interface: Making custom Functions."
   ]
  },
  {
   "cell_type": "markdown",
   "metadata": {},
   "source": [
    "To benchmark, or train, new Optimization Algorithms on a diverse set of optimization scenarios, we provide tools to create new functions in a convenient manner. The simplest way to create new functions, is to compose a base functions with wrappers that extend its complexity. In our interface this can be done by specifying a base `Function` type and wrapping this with `FunctionWrapper` types. This notebook illustrates how one can leverage our API to create such functions through an explicit `haiku.Transformed` function or through our utilities."
   ]
  },
  {
   "cell_type": "code",
   "execution_count": 12,
   "metadata": {
    "tags": [],
    "ExecuteTime": {
     "end_time": "2023-06-14T14:20:12.385549121Z",
     "start_time": "2023-06-14T14:20:12.343207359Z"
    }
   },
   "outputs": [
    {
     "name": "stdout",
     "output_type": "stream",
     "text": [
      "[0.4878348  0.68895483] 3.9737816\n"
     ]
    }
   ],
   "source": [
    "import jax\n",
    "import haiku as hk\n",
    "\n",
    "from bbox import functions as fx\n",
    "from bbox import wrappers as wx\n",
    "\n",
    "\n",
    "@hk.transform\n",
    "def my_fun(inputs: jax.Array) -> jax.Array:\n",
    "    # Implement a noisy Ellipsoid function with an affine input transformation.\n",
    "    f = fx.real.Ellipsoid() \n",
    "\n",
    "    f = wx.real.Translation(f, x_shift=2.0, y_shift=0.0)\n",
    "    f = wx.real.UniformRotation(f)\n",
    "    f = wx.real.WhiteNoise(f, stddev=0.1)\n",
    "    \n",
    "    # Evaluate f before calling f.register_optimum to initialize parameters.\n",
    "    out = f(inputs)\n",
    "    if hk.running_init():\n",
    "        f.register_optimum(inputs)\n",
    "        \n",
    "    return out\n",
    "\n",
    "\n",
    "key = jax.random.PRNGKey(123)\n",
    "key_init, key_apply = jax.random.split(key)\n",
    "\n",
    "x = jax.random.uniform(key, (2,))\n",
    "params = my_fun.init(key_init, x)\n",
    "y = my_fun.apply(params, key_apply, x)\n",
    "\n",
    "print(x, y)\n",
    "# >> [0.4878348  0.68895483] 3.9737816"
   ]
  },
  {
   "cell_type": "markdown",
   "metadata": {},
   "source": [
    "The function parameters are managed by the `dm-haiku` API in a `hk.Params` container. This provides a set of common utilities to merge, partition, or transform specific parameters. It is also useful for defining specific levels of namespaces through `hk.lift` when defining sub-modules."
   ]
  },
  {
   "cell_type": "code",
   "execution_count": 13,
   "metadata": {
    "ExecuteTime": {
     "end_time": "2023-06-14T14:20:13.091626676Z",
     "start_time": "2023-06-14T14:20:13.080204090Z"
    }
   },
   "outputs": [
    {
     "data": {
      "text/plain": "{'UniformRotation': {'rotation_matrix': Array([[-0.7400718, -0.6725279],\n         [-0.6725279,  0.7400718]], dtype=float32)},\n 'Translation': {'x_shift': Array([2., 2.], dtype=float32),\n  'y_shift': Array(0., dtype=float32)},\n 'Ellipsoid': {'exp_base': Array(0.5, dtype=float32)},\n 'WhiteNoise': {'optimum_location': Array([ 2.8251994 , -0.13508773], dtype=float32),\n  'optimum_value': Array(0.03263927, dtype=float32)}}"
     },
     "execution_count": 13,
     "metadata": {},
     "output_type": "execute_result"
    }
   ],
   "source": [
    "params"
   ]
  },
  {
   "cell_type": "markdown",
   "metadata": {},
   "source": [
    "We also provide some utilities to parse the parameter containers of the functions to, e.g., retrieve the analytical optima (if available). As an example, we can see that the registered optimal value is the expected value over random keys at the optimal argument:"
   ]
  },
  {
   "cell_type": "code",
   "execution_count": 14,
   "metadata": {
    "ExecuteTime": {
     "end_time": "2023-06-14T14:20:15.499675058Z",
     "start_time": "2023-06-14T14:20:15.457625228Z"
    }
   },
   "outputs": [
    {
     "name": "stdout",
     "output_type": "stream",
     "text": [
      "[ 2.8251994  -0.13508773] 0.032639273 0.015270544\n"
     ]
    }
   ],
   "source": [
    "from bbox import get_param\n",
    "from bbox.types import Parameter\n",
    "\n",
    "x_opt = get_param(params, Parameter.OPTIMUM_LOCATION)\n",
    "y_opt = get_param(params, Parameter.OPTIMUM_VALUE)\n",
    "\n",
    "# Batch evaluate function across random-keys using jax.vmap\n",
    "y_avg = jax.vmap(lambda k: my_fun.apply(params, k, x_opt))(\n",
    "    jax.random.split(key, num=100)).mean()\n",
    "\n",
    "print(x_opt, y_opt, y_avg)\n",
    "# >> [0.03312814 2.8282332 ] 0.012413587 0.012142903"
   ]
  },
  {
   "cell_type": "markdown",
   "metadata": {},
   "source": [
    "For clarity we maintain a fixed alphabet of parameters to store and register keys within the `haiku.Params` container. All the default implementations in `bbox` define `haiku` parameters or state indexed by keys from `bbox.Parameter`."
   ]
  },
  {
   "cell_type": "code",
   "execution_count": 4,
   "metadata": {},
   "outputs": [
    {
     "data": {
      "text/plain": [
       "['AMPLITUDE',\n",
       " 'BASES',\n",
       " 'COVARIANCE_FACTOR',\n",
       " 'EXPONENT',\n",
       " 'EXP_BASE',\n",
       " 'EXP_FACTOR',\n",
       " 'NUM_BASES',\n",
       " 'OPTIMUM_LOCATION',\n",
       " 'OPTIMUM_VALUE',\n",
       " 'PERIOD',\n",
       " 'ROTATION_MATRIX',\n",
       " 'SCALE',\n",
       " 'SHIFT',\n",
       " 'X_SCALE',\n",
       " 'X_SHIFT',\n",
       " 'Y_SCALE',\n",
       " 'Y_SHIFT']"
      ]
     },
     "execution_count": 4,
     "metadata": {},
     "output_type": "execute_result"
    }
   ],
   "source": [
    "list(filter(str.isupper, dir(Parameter)))"
   ]
  },
  {
   "cell_type": "markdown",
   "metadata": {},
   "source": [
    "#### Example Evaluation over grid\n",
    "\n",
    "We can conveniently evaluate our defined function over a 2D grid through `jax.numpy` and `jax.vmap` as the `dm-haiku` transformed function is automatically compatible with the `jax` module. This also goes for evaluating gradients if our designed function is indeed differentiable."
   ]
  },
  {
   "cell_type": "code",
   "execution_count": 12,
   "metadata": {
    "ExecuteTime": {
     "end_time": "2023-06-08T15:22:54.673237495Z",
     "start_time": "2023-06-08T15:22:54.323462588Z"
    }
   },
   "outputs": [],
   "source": [
    "import matplotlib.pyplot as plt\n",
    "\n",
    "from jax import numpy as jnp\n",
    "\n",
    "\n",
    "x = y = jnp.linspace(-5, 5, 100)\n",
    "XY = jnp.asarray(jnp.meshgrid(x, y)).reshape(2, -1).T\n",
    "\n",
    "key_array = jax.random.split(key, num=len(XY))\n",
    "\n",
    "out = jax.vmap(my_fun.apply, in_axes=(None, 0, 0))(params, key_array, XY)"
   ]
  },
  {
   "cell_type": "code",
   "execution_count": 13,
   "metadata": {
    "ExecuteTime": {
     "end_time": "2023-06-08T15:22:56.783859200Z",
     "start_time": "2023-06-08T15:22:56.378582817Z"
    }
   },
   "outputs": [
    {
     "data": {
      "text/plain": "<matplotlib.collections.PathCollection at 0x7fdb38676ec0>"
     },
     "execution_count": 13,
     "metadata": {},
     "output_type": "execute_result"
    },
    {
     "data": {
      "text/plain": "<Figure size 640x480 with 1 Axes>",
      "image/png": "[encoded data removed]"
     },
     "metadata": {},
     "output_type": "display_data"
    }
   ],
   "source": [
    "%matplotlib inline\n",
    "\n",
    "plt.contourf(x, y, out.reshape(100, 100))\n",
    "plt.scatter(x_opt[0], x_opt[1], marker='x', color='red', s=100)"
   ]
  },
  {
   "cell_type": "markdown",
   "metadata": {},
   "source": [
    "### Function Creation Utilities"
   ]
  },
  {
   "cell_type": "markdown",
   "metadata": {},
   "source": [
    "In the case that we have many wrappers, the explicit definition of new `Function` types can become rather verbose. Most commonly, we will want to create functions with one base function that is wrapped to add more complexity. This is not a restriction, as `Function` may also output arbitrary pytrees as transformations of its inputs. But in the simplest case of wrapping base `Function` types, we provide the `as_callable` and `as_transformed` utilities.\n",
    "\n",
    "The utility `as_callable` transforms our defined function as a direct input-output mapping and absorbs the parameter container (and optionally the `None` PRNGKey) within the returned object. The `as_transformed` utility performs a sequential reduction of all provided `FunctionWrapper`s with the base `Function`, this requires the user to instantiate a `Partial` instance of \n",
    "the given base function and the wrappers if they are parameter dependent. This can be done either through `Function.partial` or `functools.partial`, by using the `Function.partial` method one can create a partially instantiated class, which may be useful to intermittenly lookup class attributes."
   ]
  },
  {
   "cell_type": "code",
   "execution_count": 7,
   "metadata": {},
   "outputs": [],
   "source": [
    "from bbox import as_callable, as_transformed\n",
    "\n",
    "\n",
    "my_callable = as_callable(\n",
    "    base=fx.real.Ellipsoid,\n",
    "    wrappers=[\n",
    "        wx.real.Translation.partial(x_shift=2.0, y_shift=0.0),\n",
    "        wx.real.UniformRotation,\n",
    "        wx.real.WhiteNoise.partial(stddev=0.1)\n",
    "    ],\n",
    "    rng=key_init,\n",
    "    dummy_x=jnp.zeros(2)\n",
    ")"
   ]
  },
  {
   "cell_type": "code",
   "execution_count": 8,
   "metadata": {},
   "outputs": [
    {
     "data": {
      "text/plain": [
       "({'UniformRotation': {'rotation_matrix': Array([[-0.7400718, -0.6725279],\n",
       "          [-0.6725279,  0.7400718]], dtype=float32)},\n",
       "  'PartialTranslation': {'x_shift': Array([2., 2.], dtype=float32),\n",
       "   'y_shift': Array(0., dtype=float32)},\n",
       "  'Ellipsoid': {'exp_base': Array(0.5, dtype=float32)}},)"
      ]
     },
     "execution_count": 8,
     "metadata": {},
     "output_type": "execute_result"
    }
   ],
   "source": [
    "# Parameters can still be accessed through function closure!\n",
    "my_callable.__closure__[1].cell_contents"
   ]
  },
  {
   "cell_type": "code",
   "execution_count": 9,
   "metadata": {},
   "outputs": [
    {
     "data": {
      "text/plain": [
       "<matplotlib.collections.PathCollection at 0x7fda62e24f70>"
      ]
     },
     "execution_count": 9,
     "metadata": {},
     "output_type": "execute_result"
    },
    {
     "data": {
      "image/png": "[encoded data removed]",
      "text/plain": [
       "<Figure size 640x480 with 1 Axes>"
      ]
     },
     "metadata": {},
     "output_type": "display_data"
    }
   ],
   "source": [
    "%matplotlib inline\n",
    "\n",
    "out = jax.vmap(my_callable)(key_array, XY)\n",
    "\n",
    "plt.contourf(x, y, out.reshape(100, 100))\n",
    "plt.scatter(x_opt[0], x_opt[1], marker='x', color='red', s=100)  # This is now wrong."
   ]
  },
  {
   "cell_type": "markdown",
   "metadata": {},
   "source": [
    "By utilizing `as_transformed` we essentially get back the exact same function as the one we defined explicitly in the top of this notebook."
   ]
  },
  {
   "cell_type": "code",
   "execution_count": 10,
   "metadata": {},
   "outputs": [],
   "source": [
    "my_fun = as_transformed(\n",
    "    base=fx.real.Ellipsoid,\n",
    "    wrappers=[\n",
    "        wx.real.Translation.partial(x_shift=2.0, y_shift=0.0),\n",
    "        wx.real.UniformRotation,\n",
    "        wx.real.WhiteNoise.partial(stddev=0.1)\n",
    "    ],  \n",
    "    register_optimum=True\n",
    ")"
   ]
  },
  {
   "cell_type": "code",
   "execution_count": 11,
   "metadata": {},
   "outputs": [
    {
     "name": "stdout",
     "output_type": "stream",
     "text": [
      "[0.4878348  0.68895483] 3.9737816\n"
     ]
    }
   ],
   "source": [
    "### Copied from first notebook cell : Output is the same\n",
    "\n",
    "key = jax.random.PRNGKey(123)\n",
    "key_init, key_apply = jax.random.split(key)\n",
    "\n",
    "x = jax.random.uniform(key, (2,))\n",
    "params = my_fun.init(key_init, x)\n",
    "y = my_fun.apply(params, key_apply, x)\n",
    "\n",
    "print(x, y)\n",
    "# >> [0.4878348  0.68895483] 3.0206795"
   ]
  }
 ],
 "metadata": {
  "kernelspec": {
   "display_name": "Python 3 (ipykernel)",
   "language": "python",
   "name": "python3"
  },
  "language_info": {
   "codemirror_mode": {
    "name": "ipython",
    "version": 3
   },
   "file_extension": ".py",
   "mimetype": "text/x-python",
   "name": "python",
   "nbconvert_exporter": "python",
   "pygments_lexer": "ipython3",
   "version": "3.9.0"
  }
 },
 "nbformat": 4,
 "nbformat_minor": 4
}
