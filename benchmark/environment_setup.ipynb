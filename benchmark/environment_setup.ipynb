{
 "cells": [
  {
   "cell_type": "code",
   "execution_count": 1,
   "outputs": [
    {
     "name": "stderr",
     "output_type": "stream",
     "text": [
      "No GPU/TPU found, falling back to CPU. (Set TF_CPP_MIN_LOG_LEVEL=0 and rerun for more info.)\n"
     ]
    }
   ],
   "source": [
    "import jax\n",
    "import haiku as hk\n",
    "import numpy as np\n",
    "import jax.numpy as jnp\n",
    "import torch\n",
    "\n",
    "from bbox import functions as fx\n",
    "from bbox import wrappers as wx"
   ],
   "metadata": {
    "collapsed": false,
    "ExecuteTime": {
     "end_time": "2023-06-16T12:13:59.255858033Z",
     "start_time": "2023-06-16T12:13:53.138224149Z"
    }
   }
  },
  {
   "cell_type": "code",
   "execution_count": 24,
   "outputs": [
    {
     "name": "stdout",
     "output_type": "stream",
     "text": [
      "-22239.65\n"
     ]
    }
   ],
   "source": [
    "@hk.transform\n",
    "def my_fun(inputs: jax.Array) -> jax.Array:\n",
    "    # Implement a noisy Ellipsoid function with an affine input transformation.\n",
    "    f = fx.real.Schwefel()\n",
    "\n",
    "    f = wx.FlipSign(f)\n",
    "\n",
    "    # Evaluate f before calling f.register_optimum to initialize parameters.\n",
    "    out = f(inputs)\n",
    "    if hk.running_init():\n",
    "        f.register_optimum(inputs)\n",
    "\n",
    "    return out\n",
    "\n",
    "\n",
    "key = jax.random.PRNGKey(123)\n",
    "key_init, key_apply = jax.random.split(key)\n",
    "\n",
    "# x = jax.random.uniform(key, (2,))\n",
    "# make x 1-dim jax array  with value [-600]\n",
    "x = jnp.array([250. for i in range(50)])\n",
    "params = my_fun.init(key_init, x)\n",
    "y = my_fun.apply(params, key_apply, x)\n",
    "\n",
    "print(y)"
   ],
   "metadata": {
    "collapsed": false,
    "ExecuteTime": {
     "end_time": "2023-06-15T17:55:47.567615563Z",
     "start_time": "2023-06-15T17:55:47.509794459Z"
    }
   }
  },
  {
   "cell_type": "code",
   "execution_count": 23,
   "outputs": [
    {
     "data": {
      "text/plain": "{'FlipSign': {'optimum_location': Array([420.96875, 420.96875, 420.96875, 420.96875, 420.96875, 420.96875,\n         420.96875, 420.96875, 420.96875, 420.96875, 420.96875, 420.96875,\n         420.96875, 420.96875, 420.96875, 420.96875, 420.96875, 420.96875,\n         420.96875, 420.96875, 420.96875, 420.96875, 420.96875, 420.96875,\n         420.96875, 420.96875, 420.96875, 420.96875, 420.96875, 420.96875,\n         420.96875, 420.96875, 420.96875, 420.96875, 420.96875, 420.96875,\n         420.96875, 420.96875, 420.96875, 420.96875, 420.96875, 420.96875,\n         420.96875, 420.96875, 420.96875, 420.96875, 420.96875, 420.96875,\n         420.96875, 420.96875], dtype=float32),\n  'optimum_value': Array(-0., dtype=float32)}}"
     },
     "execution_count": 23,
     "metadata": {},
     "output_type": "execute_result"
    }
   ],
   "source": [
    "params"
   ],
   "metadata": {
    "collapsed": false,
    "ExecuteTime": {
     "end_time": "2023-06-15T17:51:54.356476804Z",
     "start_time": "2023-06-15T17:51:54.228612316Z"
    }
   }
  },
  {
   "cell_type": "code",
   "execution_count": 7,
   "outputs": [],
   "source": [
    "data = {}\n",
    "\n",
    "Griewank = \"Griewank\"\n",
    "Zakharov = \"Zakharov\"\n",
    "Easom = \"Easom\"\n",
    "Ackley = \"Ackley\"\n",
    "DifferentPowers = \"DifferentPowers\"\n",
    "Schwefel = \"Schwefel\"\n",
    "\n",
    "data = {\n",
    "    # Griewank: [{\n",
    "    #     \"batch_size\": 2,\n",
    "    #     \"dim\": 2,\n",
    "    #     \"noise\": 0.0,\n",
    "    #     \"n_iter\": 80,\n",
    "    # }, {\n",
    "    #     \"batch_size\": 2,\n",
    "    #     \"dim\": 2,\n",
    "    #     \"noise\": .05,\n",
    "    #     \"n_iter\": 80,\n",
    "    # }, {\n",
    "    #     \"batch_size\": 2,\n",
    "    #     \"dim\": 2,\n",
    "    #     \"noise\": .10,\n",
    "    #     \"n_iter\": 80,\n",
    "    # }, {\n",
    "    #     \"batch_size\": 2,\n",
    "    #     \"dim\": 2,\n",
    "    #     \"noise\": .20,\n",
    "    #     \"n_iter\": 80,\n",
    "    # }, {\n",
    "    #     \"batch_size\": 2,\n",
    "    #     \"dim\": 2,\n",
    "    #     \"noise\": .40,\n",
    "    #     \"n_iter\": 80,\n",
    "    # }],\n",
    "    Easom: [\n",
    "    #     {\n",
    "    #     \"batch_size\": 2,\n",
    "    #     \"dim\": 2,\n",
    "    #     \"noise\": .05,\n",
    "    #     \"n_iter\": 80,\n",
    "    # },\n",
    "        {\n",
    "        \"batch_size\": 2,\n",
    "        \"dim\": 10,\n",
    "        \"noise\": .05,\n",
    "        \"n_iter\": 80,\n",
    "    }, {\n",
    "        \"batch_size\": 2,\n",
    "        \"dim\": 25,\n",
    "        \"noise\": .05,\n",
    "        \"n_iter\": 100,\n",
    "    }, {\n",
    "        \"batch_size\": 2,\n",
    "        \"dim\": 50,\n",
    "        \"noise\": .05,\n",
    "        \"n_iter\": 80,\n",
    "    },],\n",
    "    Zakharov: [{\n",
    "        \"batch_size\": 2,\n",
    "        \"dim\": 2,\n",
    "        \"noise\": .0,\n",
    "        \"n_iter\": 80,\n",
    "    }, {\n",
    "        \"batch_size\": 5,\n",
    "        \"dim\": 2,\n",
    "        \"noise\": .0,\n",
    "        \"n_iter\": 50,\n",
    "    }, {\n",
    "        \"batch_size\": 10,\n",
    "        \"dim\": 2,\n",
    "        \"noise\": .0,\n",
    "        \"n_iter\": 40,\n",
    "    }, {\n",
    "        \"batch_size\": 25,\n",
    "        \"dim\": 2,\n",
    "        \"noise\": .0,\n",
    "        \"n_iter\": 15,\n",
    "    }],\n",
    "    Ackley: [{\n",
    "        \"batch_size\": 10,\n",
    "        \"dim\": 2,\n",
    "        \"noise\": .1,\n",
    "        \"n_iter\": 40,\n",
    "    }, {\n",
    "        \"batch_size\": 10,\n",
    "        \"dim\": 10,\n",
    "        \"noise\": .1,\n",
    "        \"n_iter\": 40,\n",
    "    }, {\n",
    "        \"batch_size\": 10,\n",
    "        \"dim\": 25,\n",
    "        \"noise\": .1,\n",
    "        \"n_iter\": 40,\n",
    "    }, {\n",
    "        \"batch_size\": 10,\n",
    "        \"dim\": 50,\n",
    "        \"noise\": .1,\n",
    "        \"n_iter\": 40,\n",
    "    },],\n",
    "    Schwefel: [{\n",
    "        \"batch_size\": 2,\n",
    "        \"dim\": 25,\n",
    "        \"noise\": .2,\n",
    "        \"n_iter\": 80,\n",
    "    }, {\n",
    "        \"batch_size\": 5,\n",
    "        \"dim\": 25,\n",
    "        \"noise\": .2,\n",
    "        \"n_iter\": 50,\n",
    "    }, {\n",
    "        \"batch_size\": 10,\n",
    "        \"dim\": 25,\n",
    "        \"noise\": .2,\n",
    "        \"n_iter\": 40,\n",
    "    }, {\n",
    "        \"batch_size\": 25,\n",
    "        \"dim\": 25,\n",
    "        \"noise\": .2,\n",
    "        \"n_iter\": 15,\n",
    "    }],\n",
    "    DifferentPowers: [{\n",
    "        \"batch_size\": 5,\n",
    "        \"dim\": 2,\n",
    "        \"noise\": .0,\n",
    "        \"n_iter\": 50,\n",
    "    }, {\n",
    "        \"batch_size\": 5,\n",
    "        \"dim\": 10,\n",
    "        \"noise\": .05,\n",
    "        \"n_iter\": 50,\n",
    "    }, {\n",
    "        \"batch_size\": 5,\n",
    "        \"dim\": 10,\n",
    "        \"noise\": .1,\n",
    "        \"n_iter\": 50,\n",
    "    }, {\n",
    "        \"batch_size\": 5,\n",
    "        \"dim\": 10,\n",
    "        \"noise\": .2,\n",
    "        \"n_iter\": 50,\n",
    "    }, {\n",
    "        \"batch_size\": 5,\n",
    "        \"dim\": 10,\n",
    "        \"noise\": .4,\n",
    "        \"n_iter\": 50,\n",
    "    }],\n",
    "}"
   ],
   "metadata": {
    "collapsed": false,
    "ExecuteTime": {
     "end_time": "2023-06-17T00:13:52.133320709Z",
     "start_time": "2023-06-17T00:13:52.114328204Z"
    }
   }
  },
  {
   "cell_type": "code",
   "execution_count": 8,
   "outputs": [],
   "source": [
    "import json\n",
    "\n",
    "with open('./test_environments.json', 'w') as outfile:\n",
    "    json.dump(data, outfile)"
   ],
   "metadata": {
    "collapsed": false,
    "ExecuteTime": {
     "end_time": "2023-06-17T00:13:52.959268119Z",
     "start_time": "2023-06-17T00:13:52.953654361Z"
    }
   }
  },
  {
   "cell_type": "code",
   "execution_count": null,
   "outputs": [],
   "source": [],
   "metadata": {
    "collapsed": false
   }
  }
 ],
 "metadata": {
  "kernelspec": {
   "display_name": "Python 3",
   "language": "python",
   "name": "python3"
  },
  "language_info": {
   "codemirror_mode": {
    "name": "ipython",
    "version": 2
   },
   "file_extension": ".py",
   "mimetype": "text/x-python",
   "name": "python",
   "nbconvert_exporter": "python",
   "pygments_lexer": "ipython2",
   "version": "2.7.6"
  }
 },
 "nbformat": 4,
 "nbformat_minor": 0
}
